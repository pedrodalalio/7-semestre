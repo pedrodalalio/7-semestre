{
 "cells": [
  {
   "cell_type": "markdown",
   "metadata": {},
   "source": [
    "<font color = blue>\n",
    "<h1> Atividade - Transformações Geométricas em Imagens Digitais </h1>\n",
    "<h3> Curso: Engenharia de Software </h3>\n",
    "<h3> Disciplina: Visão Computacional </h3>\n",
    "</font>"
   ]
  },
  {
   "cell_type": "markdown",
   "metadata": {},
   "source": [
    "<h3> Objetivo </h3>\n",
    "<p>\n",
    "Conhecer as operações geométricas básicas sobre imagens: rotação, translação, escala e espelhamento.\n",
    "</p>"
   ]
  },
  {
   "cell_type": "markdown",
   "metadata": {},
   "source": [
    "<h3> Resumo da Teoria </h3>\n",
    "\n",
    "<p>\n",
    "Dada uma imagem, é bastante comum desejar modificá-la, alterando suas dimensões, rotacionando-a, eliminando parte da imagem e permanecendo somente com outra parte, obtendo uma versão espelhada dela etc. \n",
    "</p>\n",
    "<p>\n",
    "A este tipo de operação sobre imagens denominamos transformações geométricas, pois em geral envolvem princípios básicos de geometria analítica aplicados a matrizes, que neste caso são imagens. \n",
    "</p>\n",
    "<p>\n",
    "A maior parte das operações geométricas utiliza um processo conhecido como interpolação, que é uma técnica utilizada pelo programa para determinar valores entre pixels definidos. Por exemplo, se alteramos as dimensões de uma imagem de tal maneira que ela contenha o dobro do número de pixels original, o programa obterá os valores para os novos pixels através de interpolação. A biblioteca OpenCV provê, dentre seus métodos de interpolação, os que seguem:\n",
    "</p>\n",
    "<ul>\n",
    " <li><b>Vizinho mais próximo:</b> ajusta uma superfície constante através dos valores de intensidade. O valor de um pixel interpolado é o valor do pixel mais próximo. </li>\n",
    " <li><b>Interpolação bilinear:</b> ajusta uma superfície linear sobre os valores já existentes. O valor de um pixel interpolado é uma combinação dos valores de seus 4-vizinhos.</li> \n",
    " <li><b>Interpolação bicúbica:</b> ajusta uma superfície cúbica sobre os valores já existentes. O valor de um pixel interpolado é uma combinação dos 16 pixels mais próximos. </li>\n",
    "</ul>\n",
    "<p>\n",
    "    Neste trabalho, veremos como aplicar estas e outras técnicas usando a biblioteca OpenCV com a Linguagem de Programação Python.\n",
    "</p>\n"
   ]
  },
  {
   "cell_type": "markdown",
   "metadata": {},
   "source": [
    "<font color = blue>\n",
    "<h2> Atividade 1 - Escala </h2>\n",
    "\n",
    "<p>\n",
    "    Faça um programa em Python que leia a imagem 'lena.png'. Em seguida, faça o que se pede: \n",
    "    <ul>\n",
    "        <li> Exibir a imagem original e apresentar, no console, suas dimensões.</li>\n",
    "        <li> Ao pressionar a tecla 'd', a imagem resultante deverá ser diminuida pela metade em relação a imagem original. Apresentar as novas dimensões no console.</li>\n",
    "        <li> Ao pressionar a tecla 'a', a imagem resultante deverá ser ampliada pelo seu dobro em relação a imagem original. Apresentar as novas dimensões no console.</li>\n",
    "        <li> Ao pressionar a tecla 'Esc', o programa deverá ser finalizado.</li>\n",
    "    </ul>    \n",
    "</p>    \n",
    "</font>"
   ]
  },
  {
   "cell_type": "markdown",
   "metadata": {},
   "source": [
    "<font color = red>\n",
    "\n",
    "<h3> Função</h3>\n",
    "<p>\n",
    "    Explique aqui a finalidade da função utilizada bem como seus parâmetros\n",
    "</p>   "
   ]
  },
  {
   "cell_type": "code",
   "execution_count": null,
   "metadata": {},
   "outputs": [],
   "source": [
    "import numpy as np\n",
    "import cv2 as cv\n",
    "\n",
    "# Exibir a imagem original e apresentar, no console, suas dimensões.\n",
    "img = cv.imread('lena.png')\n",
    "cv.imshow(\"Lena\", img)\n",
    "h, w, c = img.shape\n",
    "print(img.shape)\n",
    "\n",
    "while True:\n",
    "    k = cv.waitKey(100)\n",
    "    # Ao pressionar a tecla 'd', a imagem resultante deverá ser \n",
    "    # diminuida pela metade em relação a imagem original. Apresentar as novas dimensões no console.\n",
    "    if k == 100:\n",
    "        cv.destroyAllWindows()\n",
    "        \n",
    "        halfH = h/2\n",
    "        halfW = w/2\n",
    "        \n",
    "        half = cv.resize(img, (int(halfH), int(halfW)))\n",
    "        cv.imshow(\"Metade\", half)\n",
    "        shapeHalf = half.shape\n",
    "        print(shapeHalf)\n",
    "    elif k == 97: \n",
    "        cv.destroyAllWindows()\n",
    "        \n",
    "        dobleH = h*2\n",
    "        dobleW = w*2\n",
    "        \n",
    "        doble = cv.resize(img, (int(dobleH), int(dobleW)))\n",
    "        cv.imshow(\"Dobro\", doble)\n",
    "        shapeDoble = doble.shape\n",
    "        print(shapeDoble)\n",
    "    elif k == 27: \n",
    "        cv.destroyAllWindows()\n",
    "        break\n",
    "\n"
   ]
  },
  {
   "cell_type": "markdown",
   "metadata": {},
   "source": [
    "<font color = blue>\n",
    "<h2> Atividade 2 - Translação </h2>\n",
    "\n",
    "<p>\n",
    "    Faça um programa em Python que leia a imagem 'lena.png'. Em seguida, faça o que se pede: \n",
    "    <ul>\n",
    "        <li> Exibir a imagem original.</li>\n",
    "        <li> Ao pressionar a tecla 'd', a imagem resultante deverá ser transladada em 50% em relação à imagem original no eixo horizontal à direita.</li>\n",
    "        <li> Ao pressionar a tecla 'a', a imagem resultante deverá ser transladada em 50% em relação à imagem original no eixo horizontal à esquerda.</li>\n",
    "        <li> Ao pressionar a tecla 'w', a imagem resultante deverá ser transladada em 50% em relação à imagem original no eixo vertical para cima.</li>\n",
    "        <li> Ao pressionar a tecla 's', a imagem resultante deverá ser transladada em 50% em relação à imagem original no eixo vertical para baixo.</li>\n",
    "        <li> Ao pressionar a tecla 'q', a imagem resultante deverá ser transladada em 1/4 em relação à imagem original no eixo vertical para baixo e horizontal à direita.</li>\n",
    "        <li> Ao pressionar a tecla 'Esc', o programa deverá ser finalizado.</li>\n",
    "    </ul>    \n",
    "</p>    \n",
    "</font>"
   ]
  },
  {
   "cell_type": "markdown",
   "metadata": {},
   "source": [
    "<font color = red>\n",
    "\n",
    "<h3> Função</h3>\n",
    "<p>\n",
    "    Explique aqui a finalidade da função utilizada bem como seus parâmetros\n",
    "</p>"
   ]
  },
  {
   "cell_type": "code",
   "execution_count": null,
   "metadata": {},
   "outputs": [
    {
     "name": "stdout",
     "output_type": "stream",
     "text": [
      "(512, 512, 3)\n"
     ]
    }
   ],
   "source": [
    "import numpy as np\n",
    "import cv2 as cv\n",
    "\n",
    "# Exibir a imagem original e apresentar, no console, suas dimensões.\n",
    "img = cv.imread('lena.png')\n",
    "cv.imshow(\"Lena\", img)\n",
    "h, w, c = img.shape\n",
    "print(img.shape)\n",
    "\n",
    "while True:\n",
    "    k = cv.waitKey(100)\n",
    "    if k == 100:\n",
    "        cv.destroyAllWindows()\n",
    "    \n",
    "        deslocamento = np.float32([[1, 0, w/2], [0, 1, 0]])\n",
    "        deslocado = cv.warpAffine(img, deslocamento, (w, h))\n",
    "        cv.imshow(\"D\", deslocado)\n",
    "    elif k == 97: \n",
    "        cv.destroyAllWindows()\n",
    "\n",
    "        deslocamento = np.float32([[1, 0, -(w/2)], [0, 1, 0]])\n",
    "        deslocado = cv.warpAffine(img, deslocamento, (w, h))\n",
    "        cv.imshow(\"A\", deslocado)\n",
    "    elif k == 119: \n",
    "        cv.destroyAllWindows()\n",
    "\n",
    "        deslocamento = np.float32([[1, 0, 0], [0, 1, h/2]])\n",
    "        deslocado = cv.warpAffine(img, deslocamento, (w, h))\n",
    "        cv.imshow(\"W\", deslocado)\n",
    "    elif k == 115: \n",
    "        cv.destroyAllWindows()\n",
    "\n",
    "        deslocamento = np.float32([[1, 0, 0], [0, 1, -(h/2)]])\n",
    "        deslocado = cv.warpAffine(img, deslocamento, (w, h))\n",
    "        cv.imshow(\"S\", deslocado)\n",
    "    elif k == 113: \n",
    "        cv.destroyAllWindows()\n",
    "\n",
    "        deslocamento = np.float32([[1, 0, w/2], [0, 1, h/2]])\n",
    "        deslocado = cv.warpAffine(img, deslocamento, (w, h))\n",
    "        cv.imshow(\"Q\", deslocado)\n",
    "    elif k == 27: \n",
    "        cv.destroyAllWindows()\n",
    "        break\n",
    "\n"
   ]
  },
  {
   "cell_type": "markdown",
   "metadata": {},
   "source": [
    "<font color = blue>\n",
    "<h2> Atividade 3 - Rotação </h2>\n",
    "\n",
    "<p>\n",
    "    Faça um programa em Python que leia a imagem 'lena.png'. Em seguida, faça o que se pede: \n",
    "    <ul>\n",
    "        <li> Exibir a imagem original.</li>\n",
    "        <li> Ao pressionar a tecla 'd', rotacionar a imagem original em 45° no sentido horário.</li>\n",
    "        <li> Ao pressionar a tecla 'a', rotacionar a imagem original em 45° no sentido anti-horário.</li>\n",
    "        <li> Ao pressionar a tecla 'Esc', o programa deverá ser finalizado.</li>\n",
    "    </ul>    \n",
    "</p>    \n",
    "</font>"
   ]
  },
  {
   "cell_type": "markdown",
   "metadata": {},
   "source": [
    "<font color = red>\n",
    "\n",
    "<h3> Função</h3>\n",
    "<p>\n",
    "    Explique aqui a finalidade da função utilizada bem como seus parâmetros\n",
    "</p>"
   ]
  },
  {
   "cell_type": "code",
   "execution_count": 1,
   "metadata": {},
   "outputs": [
    {
     "name": "stdout",
     "output_type": "stream",
     "text": [
      "(512, 512, 3)\n"
     ]
    },
    {
     "ename": "KeyboardInterrupt",
     "evalue": "",
     "output_type": "error",
     "traceback": [
      "\u001b[1;31m---------------------------------------------------------------------------\u001b[0m",
      "\u001b[1;31mKeyboardInterrupt\u001b[0m                         Traceback (most recent call last)",
      "Cell \u001b[1;32mIn[1], line 12\u001b[0m\n\u001b[0;32m      9\u001b[0m \u001b[38;5;28mprint\u001b[39m(img\u001b[38;5;241m.\u001b[39mshape)\n\u001b[0;32m     11\u001b[0m \u001b[38;5;28;01mwhile\u001b[39;00m \u001b[38;5;28;01mTrue\u001b[39;00m:\n\u001b[1;32m---> 12\u001b[0m     k \u001b[38;5;241m=\u001b[39m cv\u001b[38;5;241m.\u001b[39mwaitKey(\u001b[38;5;241m100\u001b[39m)\n\u001b[0;32m     13\u001b[0m     \u001b[38;5;28;01mif\u001b[39;00m k \u001b[38;5;241m==\u001b[39m \u001b[38;5;241m100\u001b[39m:\n\u001b[0;32m     14\u001b[0m         cv\u001b[38;5;241m.\u001b[39mdestroyAllWindows()\n",
      "\u001b[1;31mKeyboardInterrupt\u001b[0m: "
     ]
    }
   ],
   "source": [
    "# Coloque aqui todo o código referente a Atividade 3\n",
    "import numpy as np\n",
    "import cv2 as cv\n",
    "\n",
    "# Exibir a imagem original e apresentar, no console, suas dimensões.\n",
    "img = cv.imread('lena.png')\n",
    "cv.imshow(\"Lena\", img)\n",
    "h, w, c = img.shape\n",
    "print(img.shape)\n",
    "\n",
    "while True:\n",
    "    k = cv.waitKey(100)\n",
    "    if k == 100:\n",
    "        cv.destroyAllWindows()\n",
    "\n",
    "        height, width = img.shape[:2]\n",
    "        centerX, centerY = (width // 2, height // 2)\n",
    "        M = cv.getRotationMatrix2D((centerX, centerY), -45, 1.0)\n",
    "        rotated = cv.warpAffine(img, M, (width, height))\n",
    "        cv.imshow(\"Lena\", rotated)\n",
    "    elif k == 97:\n",
    "        cv.destroyAllWindows()\n",
    "\n",
    "        height, width = img.shape[:2]\n",
    "        centerX, centerY = (width // 2, height // 2)\n",
    "        M = cv.getRotationMatrix2D((centerX, centerY), 45, 1.0)\n",
    "        rotated = cv.warpAffine(img, M, (width, height))\n",
    "        cv.imshow(\"Lena\", rotated)\n",
    "    elif k == 27: \n",
    "        cv.destroyAllWindows()\n",
    "        break\n",
    "\n"
   ]
  },
  {
   "cell_type": "markdown",
   "metadata": {},
   "source": [
    "<font color = blue>\n",
    "<h2> Atividade 4 - Espelhamento </h2>\n",
    "\n",
    "<p>\n",
    "    Faça um programa em Python que leia a imagem 'lena.png'. Em seguida, faça o que se pede: \n",
    "    <ul>\n",
    "        <li> Exibir a imagem original.</li>\n",
    "        <li> Ao pressionar a tecla 'w', espelhar a imagem no eixo x.</li>\n",
    "        <li> Ao pressionar a tecla 'a', espelhar a imagem no eixo y.</li>\n",
    "        <li> Ao pressionar a tecla 's', espelhar a imagem nos eixos x e y.</li>\n",
    "        <li> Ao pressionar a tecla 'Esc', o programa deverá ser finalizado.</li>\n",
    "    </ul>    \n",
    "</p>    \n",
    "</font>"
   ]
  },
  {
   "cell_type": "markdown",
   "metadata": {},
   "source": [
    "<font color = red>\n",
    "\n",
    "<h3> Função</h3>\n",
    "<p>\n",
    "    Explique aqui a finalidade da função utilizada bem como seus parâmetros\n",
    "</p>"
   ]
  },
  {
   "cell_type": "code",
   "execution_count": 1,
   "metadata": {},
   "outputs": [
    {
     "name": "stdout",
     "output_type": "stream",
     "text": [
      "(512, 512, 3)\n"
     ]
    },
    {
     "ename": "KeyboardInterrupt",
     "evalue": "",
     "output_type": "error",
     "traceback": [
      "\u001b[1;31m---------------------------------------------------------------------------\u001b[0m",
      "\u001b[1;31mKeyboardInterrupt\u001b[0m                         Traceback (most recent call last)",
      "Cell \u001b[1;32mIn[1], line 12\u001b[0m\n\u001b[0;32m      9\u001b[0m \u001b[38;5;28mprint\u001b[39m(img\u001b[38;5;241m.\u001b[39mshape)\n\u001b[0;32m     11\u001b[0m \u001b[38;5;28;01mwhile\u001b[39;00m \u001b[38;5;28;01mTrue\u001b[39;00m:\n\u001b[1;32m---> 12\u001b[0m     k \u001b[38;5;241m=\u001b[39m cv\u001b[38;5;241m.\u001b[39mwaitKey(\u001b[38;5;241m100\u001b[39m)\n\u001b[0;32m     13\u001b[0m     \u001b[38;5;28;01mif\u001b[39;00m k \u001b[38;5;241m==\u001b[39m \u001b[38;5;241m119\u001b[39m:\n\u001b[0;32m     14\u001b[0m         cv\u001b[38;5;241m.\u001b[39mdestroyAllWindows()\n",
      "\u001b[1;31mKeyboardInterrupt\u001b[0m: "
     ]
    }
   ],
   "source": [
    "# Coloque aqui todo o código referente a Atividade 3\n",
    "import numpy as np\n",
    "import cv2 as cv\n",
    "\n",
    "# Exibir a imagem original e apresentar, no console, suas dimensões.\n",
    "img = cv.imread('lena.png')\n",
    "cv.imshow(\"Lena\", img)\n",
    "h, w, c = img.shape\n",
    "print(img.shape)\n",
    "\n",
    "while True:\n",
    "    k = cv.waitKey(100)\n",
    "    if k == 119:\n",
    "        cv.destroyAllWindows()\n",
    "        image = cv.flip(img, 0) \n",
    "        cv.imshow(\"W\", image)\n",
    "    elif k == 97:\n",
    "        cv.destroyAllWindows()\n",
    "        image = cv.flip(img, 1) \n",
    "        cv.imshow(\"A\", image)\n",
    "    elif k == 115:\n",
    "        cv.destroyAllWindows()\n",
    "        image = cv.flip(img, -1) \n",
    "        cv.imshow(\"S\", image)\n",
    "        \n",
    "    elif k == 27: \n",
    "        cv.destroyAllWindows()\n",
    "        break"
   ]
  }
 ],
 "metadata": {
  "kernelspec": {
   "display_name": "Python [conda env:base] *",
   "language": "python",
   "name": "conda-base-py"
  },
  "language_info": {
   "codemirror_mode": {
    "name": "ipython",
    "version": 3
   },
   "file_extension": ".py",
   "mimetype": "text/x-python",
   "name": "python",
   "nbconvert_exporter": "python",
   "pygments_lexer": "ipython3",
   "version": "3.12.7"
  }
 },
 "nbformat": 4,
 "nbformat_minor": 4
}
