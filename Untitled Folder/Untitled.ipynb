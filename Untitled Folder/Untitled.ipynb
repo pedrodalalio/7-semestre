{
 "cells": [
  {
   "cell_type": "code",
   "execution_count": 1,
   "id": "7128ba87-2f1c-4b8c-8398-77965ba3933d",
   "metadata": {},
   "outputs": [],
   "source": [
    "import cv2 as cv\n",
    "import numpy as np\n",
    "\n",
    "img = cv.imread(\"lena.png\")\n",
    "\n",
    "img_mask = np.zeros(img.shape[:2], dtype=\"uint8\")\n",
    "\n",
    "img_mask = cv.rectangle(img_mask, (200, 200), (370, 400), (255, 255, 255), -1)\n",
    "\n",
    "img_result = cv.bitwise_and(img, img, mask = img_mask)\n",
    "\n",
    "cv.imshow(\"Lena\", img)\n",
    "cv.imshow(\"Mascara\", img_mask)\n",
    "cv.imshow(\"Imagem Resultante\", img_result)\n",
    "\n",
    "cv.imwrite(\"img_mask.png\", img_mask)\n",
    "\n",
    "cv.waitKey(0)\n",
    "cv.destroyAllWindows()"
   ]
  },
  {
   "cell_type": "code",
   "execution_count": 9,
   "id": "50171f8f-e048-4033-89f6-3331bac95678",
   "metadata": {},
   "outputs": [
    {
     "name": "stdout",
     "output_type": "stream",
     "text": [
      "(512, 512, 3)\n",
      "(512, 512)\n"
     ]
    }
   ],
   "source": [
    "import cv2 as cv\n",
    "\n",
    "img = cv.imread(\"lena.png\")\n",
    "img_mask = cv.imread(\"img_mask.png\", cv.IMREAD_GRAYSCALE)\n",
    "\n",
    "print(img.shape)\n",
    "print(img_mask.shape)\n",
    "\n",
    "img_result = cv.bitwise_and(img, img, mask = img_mask)\n",
    "\n",
    "cv.imshow(\"Imagem Lena\", img)\n",
    "cv.imshow(\"Mascara\", img_mask)\n",
    "cv.imshow(\"Resultado\", img_result)\n",
    "\n",
    "cv.waitKey(0)\n",
    "cv.destroyAllWindows()"
   ]
  },
  {
   "cell_type": "code",
   "execution_count": null,
   "id": "bdfa26f4-5a90-4f81-b616-ac57543f1cd1",
   "metadata": {},
   "outputs": [],
   "source": []
  }
 ],
 "metadata": {
  "kernelspec": {
   "display_name": "Python [conda env:base] *",
   "language": "python",
   "name": "conda-base-py"
  },
  "language_info": {
   "codemirror_mode": {
    "name": "ipython",
    "version": 3
   },
   "file_extension": ".py",
   "mimetype": "text/x-python",
   "name": "python",
   "nbconvert_exporter": "python",
   "pygments_lexer": "ipython3",
   "version": "3.12.7"
  }
 },
 "nbformat": 4,
 "nbformat_minor": 5
}
