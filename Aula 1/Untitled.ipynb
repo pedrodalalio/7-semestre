{
 "cells": [
  {
   "cell_type": "code",
   "execution_count": 3,
   "id": "ce95364d",
   "metadata": {},
   "outputs": [],
   "source": [
    "import cv2 as cv"
   ]
  },
  {
   "cell_type": "code",
   "execution_count": 7,
   "id": "17b8e1c8",
   "metadata": {},
   "outputs": [],
   "source": [
    "img = cv.imread(\"lena.png\", cv.IMREAD_GRAYSCALE)\n",
    "cv.imshow(\"Imagem da Lena\", img)\n",
    "cv.waitKey(0)\n",
    "cv.destroyAllWindows()"
   ]
  },
  {
   "cell_type": "code",
   "execution_count": 8,
   "id": "227d05d2",
   "metadata": {},
   "outputs": [],
   "source": [
    "img = cv.imread(\"lena.png\", cv.IMREAD_COLOR)\n",
    "cv.imshow(\"Imagem da Lena\", img)\n",
    "cv.waitKey(100)\n",
    "cv.destroyAllWindows()"
   ]
  },
  {
   "cell_type": "code",
   "execution_count": 4,
   "id": "0f96215f",
   "metadata": {},
   "outputs": [],
   "source": [
    "img = cv.imread(\"lena.png\", cv.IMREAD_GRAYSCALE)\n",
    "cv.imshow(\"Imagem da Lena\", img)\n",
    "\n",
    "cv.imwrite(\"nova_imagem.jpeg\", img)\n",
    "\n",
    "cv.waitKey(0)\n",
    "cv.destroyAllWindows()"
   ]
  },
  {
   "cell_type": "code",
   "execution_count": 3,
   "id": "602fd0c2",
   "metadata": {},
   "outputs": [],
   "source": [
    "import cv2 as cv\n",
    "img = cv.imread(\"lena.png\", cv.IMREAD_GRAYSCALE)\n",
    "cv.imshow(\"Imagem da Lena\", img)\n",
    "\n",
    "k = cv.waitKey(0)\n",
    "\n",
    "if k == 27:\n",
    "    cv.destroyAllWindows()\n",
    "elif k == ord(\"s\"):\n",
    "    cv.imwrite(\"nova_imagem01.png\", img)\n",
    "    cv.destroyAllWindows()"
   ]
  },
  {
   "cell_type": "code",
   "execution_count": 4,
   "id": "bd31239d",
   "metadata": {},
   "outputs": [
    {
     "name": "stdout",
     "output_type": "stream",
     "text": [
      "(512, 512)\n"
     ]
    }
   ],
   "source": [
    "import cv2 as cv\n",
    "img = cv.imread(\"lena.png\", cv.IMREAD_GRAYSCALE)\n",
    "cv.imshow(\"Imagem da Lena\", img)\n",
    "\n",
    "print(img.shape)\n",
    "\n",
    "cv.waitKey(0)\n",
    "cv.destroyAllWindows()"
   ]
  }
 ],
 "metadata": {
  "kernelspec": {
   "display_name": "Python 3 (ipykernel)",
   "language": "python",
   "name": "python3"
  },
  "language_info": {
   "codemirror_mode": {
    "name": "ipython",
    "version": 3
   },
   "file_extension": ".py",
   "mimetype": "text/x-python",
   "name": "python",
   "nbconvert_exporter": "python",
   "pygments_lexer": "ipython3",
   "version": "3.11.5"
  }
 },
 "nbformat": 4,
 "nbformat_minor": 5
}
